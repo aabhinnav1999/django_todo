{
 "cells": [
  {
   "cell_type": "code",
   "execution_count": null,
   "metadata": {},
   "outputs": [],
   "source": [
    "#1\n",
    "\n",
    "import datetime\n",
    "\n",
    "m=datetime.datetime.now().minute\n",
    "s=datetime.datetime.now().second\n",
    "\n",
    "# d=datetime.datetime.now().second\n",
    "while True:\n",
    "    if datetime.datetime.now().second==int(s)+5 and datetime.datetime.now().minute==m:\n",
    "        print('if',datetime.datetime.now().minute,datetime.datetime.now().second)\n",
    "        break\n",
    "    elif datetime.datetime.now().minute==m+1:\n",
    "        print('elif',datetime.datetime.now().minute,datetime.datetime.now().second)\n",
    "        break"
   ]
  },
  {
   "cell_type": "code",
   "execution_count": null,
   "metadata": {},
   "outputs": [],
   "source": [
    "len('user successfully created, login now!')\n",
    "\n",
    "len('wrong user details or user does not exist')"
   ]
  }
 ],
 "metadata": {
  "kernelspec": {
   "display_name": "env",
   "language": "python",
   "name": "python3"
  },
  "language_info": {
   "codemirror_mode": {
    "name": "ipython",
    "version": 3
   },
   "file_extension": ".py",
   "mimetype": "text/x-python",
   "name": "python",
   "nbconvert_exporter": "python",
   "pygments_lexer": "ipython3",
   "version": "3.10.2"
  }
 },
 "nbformat": 4,
 "nbformat_minor": 2
}
